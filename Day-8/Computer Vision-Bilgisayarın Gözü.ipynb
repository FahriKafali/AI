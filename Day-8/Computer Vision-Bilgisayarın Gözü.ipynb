{
 "cells": [
  {
   "cell_type": "code",
   "execution_count": 2,
   "id": "400dc71a-7034-4b73-88d0-5edbeb48ff40",
   "metadata": {},
   "outputs": [],
   "source": [
    "#!pip install opencv-python"
   ]
  },
  {
   "cell_type": "code",
   "execution_count": 5,
   "id": "c78db6a9-6b9a-4b47-9b61-03651a4ace97",
   "metadata": {},
   "outputs": [],
   "source": [
    "import cv2\n",
    "input=cv2.imread('input.jpg')\n",
    "cv2.imshow('Hello World',input)\n",
    "cv2.waitKey() #klavyeden bir tuşa basın \n",
    "cv2.destroyAllWindows()\n",
    "#çıkan fotografı çarpıdan kapatma sakın fotografın üzerine bas ve ratgle bir tuşa bas "
   ]
  },
  {
   "cell_type": "code",
   "execution_count": null,
   "id": "6535f1ac-b221-4db3-91ce-4ac7f76b6a0f",
   "metadata": {},
   "outputs": [],
   "source": []
  }
 ],
 "metadata": {
  "kernelspec": {
   "display_name": "Python 3 (ipykernel)",
   "language": "python",
   "name": "python3"
  },
  "language_info": {
   "codemirror_mode": {
    "name": "ipython",
    "version": 3
   },
   "file_extension": ".py",
   "mimetype": "text/x-python",
   "name": "python",
   "nbconvert_exporter": "python",
   "pygments_lexer": "ipython3",
   "version": "3.12.7"
  }
 },
 "nbformat": 4,
 "nbformat_minor": 5
}
