{
 "cells": [
  {
   "cell_type": "markdown",
   "id": "a1a9dacb-baec-4547-a6bb-00103a8c99db",
   "metadata": {},
   "source": [
    "Big Data \n",
    "-datanın çok olması çeşitli olmazsı güvenilir olması hızlı olması buna 4v deniliyor \n",
    "1. Volume (Hacim)\n",
    "Verinin miktarı çok büyüktür (terabaytlar, petabaytlar).\n",
    "\n",
    "Örnek: Facebook’ta her gün milyarlarca paylaşım, YouTube’da yüzbinlerce saat video yüklenmesi.\n",
    "\n",
    "2. Velocity (Hız)\n",
    "Veri çok hızlı oluşur ve akış halindedir.\n",
    "\n",
    "Gerçek zamanlı (real-time) veri işleme gerekir.\n",
    "\n",
    "Örnek: Borsa verileri, sensör verileri, sosyal medya akışı.\n",
    "\n",
    "3. Variety (Çeşitlilik)\n",
    "Veri birçok farklı formatta gelir: yapılandırılmış, yapılandırılmamış, yarı yapılandırılmış.\n",
    "\n",
    "Örnek:\n",
    "\n",
    "Yapılandırılmış: Excel, SQL verisi\n",
    "\n",
    "Yapılandırılmamış: Görsel, video, metin\n",
    "\n",
    "Yarı yapılandırılmış: JSON, XML\n",
    "\n",
    "4. Veracity (Doğruluk)\n",
    "Verinin ne kadar güvenilir ve temiz olduğu.\n",
    "\n",
    "Gürültülü (noise) veya eksik veri olabilir → veri temizleme gerekir.\n",
    "\n",
    "Örnek: Bir sensör yanlış veri yollarsa bu analizleri bozar."
   ]
  },
  {
   "cell_type": "markdown",
   "id": "2b2fa421-2a9f-46d1-92b0-e8a6cba7ef1d",
   "metadata": {},
   "source": [
    "bu derste data gelirken daha yoldayken nasıl analiz yapılır ona bakacağız "
   ]
  },
  {
   "cell_type": "markdown",
   "id": "8455e966-81e5-4d45-9f89-dcddd97b973e",
   "metadata": {},
   "source": [
    "Spark, büyük veriyi hızlı ve paralel şekilde işleyen açık kaynaklı bir veri işleme teknolojisidir.\n",
    "Kütüphane ya da bir dil değil bunlar için kullanılan bazı yerler vardır ;\n",
    "\n",
    "Python ile → PySpark\n",
    "\n",
    "Scala ile → Spark Scala API\n",
    "\n",
    "Java ile → Spark Java API\n",
    "\n",
    "R ile → SparkR\n",
    "\n",
    "SQL ile → Spark SQL"
   ]
  },
  {
   "cell_type": "code",
   "execution_count": null,
   "id": "69a2e027-7839-4092-bc0c-865731986c22",
   "metadata": {},
   "outputs": [],
   "source": []
  }
 ],
 "metadata": {
  "kernelspec": {
   "display_name": "",
   "name": ""
  },
  "language_info": {
   "name": ""
  }
 },
 "nbformat": 4,
 "nbformat_minor": 5
}
