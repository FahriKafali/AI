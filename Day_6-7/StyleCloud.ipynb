{
 "cells": [
  {
   "cell_type": "code",
   "execution_count": null,
   "id": "5a55ac4d-21ee-437b-ba84-9c628c3382c3",
   "metadata": {},
   "outputs": [],
   "source": [
    "#pip install pillow==9.5.0"
   ]
  },
  {
   "cell_type": "code",
   "execution_count": 1,
   "id": "a2c5874d-2e58-477f-a6b2-5ea31bca8bff",
   "metadata": {},
   "outputs": [],
   "source": [
    "import stylecloud as sc\n",
    "import matplotlib as plt"
   ]
  },
  {
   "cell_type": "code",
   "execution_count": null,
   "id": "d361a8d6-b6c2-456d-ba09-919091fcdb9b",
   "metadata": {},
   "outputs": [],
   "source": [
    "sc.gen_stylecloud(file_path='challenge.txt', output_name='ch2.png')"
   ]
  },
  {
   "cell_type": "code",
   "execution_count": null,
   "id": "e34886f1-fb06-491d-a8cf-d3aa65275979",
   "metadata": {},
   "outputs": [],
   "source": [
    "from IPython.display import Image\n",
    "Image('ch2.png')"
   ]
  },
  {
   "cell_type": "code",
   "execution_count": null,
   "id": "4624e6dc-70c1-4c76-ac0e-724fe142932d",
   "metadata": {},
   "outputs": [],
   "source": [
    "sc.gen_stylecloud(file_path='challenge.txt',icon_name='fas fa-car', output_name='ch3.png')"
   ]
  },
  {
   "cell_type": "code",
   "execution_count": null,
   "id": "adbabfe2-33a8-43cc-9c31-05042d11e67f",
   "metadata": {},
   "outputs": [],
   "source": [
    "from IPython.display import Image\n",
    "Image('ch3.png')"
   ]
  },
  {
   "cell_type": "code",
   "execution_count": null,
   "id": "90cfe60e-acc8-43f1-a98f-79fc7e4c704c",
   "metadata": {},
   "outputs": [],
   "source": [
    "sc.gen_stylecloud(file_path='challenge.txt',icon_name='fas fa-truck', output_name='ch4.png')"
   ]
  },
  {
   "cell_type": "code",
   "execution_count": null,
   "id": "ea4dd07c-48f3-43d8-a161-5d968f662de3",
   "metadata": {},
   "outputs": [],
   "source": [
    "from IPython.display import Image\n",
    "Image('ch4.png')"
   ]
  },
  {
   "cell_type": "code",
   "execution_count": null,
   "id": "f14514af-8e91-430f-989f-1dd411cf4a08",
   "metadata": {},
   "outputs": [],
   "source": [
    "sc.gen_stylecloud(file_path='challenge.txt',icon_name='fas fa-star-and-crescent', output_name='ch5.png')"
   ]
  },
  {
   "cell_type": "code",
   "execution_count": null,
   "id": "9d78d6dc-3fef-4db1-b7cd-45c1d99ca309",
   "metadata": {},
   "outputs": [],
   "source": [
    "from IPython.display import Image\n",
    "Image('ch5.png')"
   ]
  },
  {
   "cell_type": "code",
   "execution_count": null,
   "id": "a6814bdb-72cd-4e7c-a94d-550a9191bacf",
   "metadata": {},
   "outputs": [],
   "source": [
    "sc.gen_stylecloud(file_path='challenge.txt',icon_name='fas fa-fighter-jet', output_name='ch6.png')"
   ]
  },
  {
   "cell_type": "code",
   "execution_count": null,
   "id": "174a6d9c-b6e5-4889-8b7e-0c8857a7dc01",
   "metadata": {},
   "outputs": [],
   "source": [
    "from IPython.display import Image\n",
    "Image('ch6.png')"
   ]
  },
  {
   "cell_type": "code",
   "execution_count": null,
   "id": "28cfb14b-a47c-4c58-bb80-c5c4706bf750",
   "metadata": {},
   "outputs": [],
   "source": []
  }
 ],
 "metadata": {
  "kernelspec": {
   "display_name": "Python 3 (ipykernel)",
   "language": "python",
   "name": "python3"
  },
  "language_info": {
   "codemirror_mode": {
    "name": "ipython",
    "version": 3
   },
   "file_extension": ".py",
   "mimetype": "text/x-python",
   "name": "python",
   "nbconvert_exporter": "python",
   "pygments_lexer": "ipython3",
   "version": "3.12.7"
  }
 },
 "nbformat": 4,
 "nbformat_minor": 5
}
