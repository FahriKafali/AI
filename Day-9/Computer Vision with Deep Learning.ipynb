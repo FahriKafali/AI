{
 "cells": [
  {
   "cell_type": "markdown",
   "id": "2f5a0598-b2d2-42e4-b5a0-246f29d64d46",
   "metadata": {},
   "source": [
    "# Bing'den Görsel Veri Toplama"
   ]
  },
  {
   "cell_type": "markdown",
   "id": "590e655a-cd18-4526-8efd-8a89ec13c901",
   "metadata": {},
   "source": [
    "Bu aşamada amaç, Bing arama motorundan otomatik olarak görsel veri indirerek kendi veri setini oluşturmak.\n",
    "Özellikle makine öğrenmesi ve derin öğrenme projeleri için gerekli olan görsel veri hızlı ve otomatik bir şekilde toplanmıştır."
   ]
  },
  {
   "cell_type": "code",
   "execution_count": 1,
   "id": "480d128d-6075-4dda-9902-d515a8f69279",
   "metadata": {},
   "outputs": [],
   "source": [
    "#pip install bing-image-downloader"
   ]
  },
  {
   "cell_type": "code",
   "execution_count": 2,
   "id": "53d8da42-7e43-4753-9aee-d67ee159a343",
   "metadata": {},
   "outputs": [],
   "source": [
    "from bing_image_downloader import downloader"
   ]
  },
  {
   "cell_type": "code",
   "execution_count": 3,
   "id": "1884d76b-a5fb-4a8a-8684-967cf0827f57",
   "metadata": {},
   "outputs": [
    {
     "name": "stdout",
     "output_type": "stream",
     "text": [
      "[%] Downloading Images to C:\\Users\\PC\\Desktop\\Yazılımsal\\Bootcamp\\githubrepos\\AI\\Day-9\\dataset\\horse\n",
      "\n",
      "\n",
      "[!!]Indexing page: 1\n",
      "\n",
      "[%] Indexed 40 Images on Page 1.\n",
      "\n",
      "===============================================\n",
      "\n",
      "[%] Downloading Image #1 from https://thehorseylife.weebly.com/uploads/3/1/3/7/31374571/830206030.jpg\n",
      "[%] File Downloaded !\n",
      "\n",
      "[%] Downloading Image #2 from http://2.bp.blogspot.com/-iHIdYh-WygY/UC6U0Mp8JiI/AAAAAAAACjw/uTdkCw6_fAE/s1600/horse3.jpg\n",
      "[%] File Downloaded !\n",
      "\n",
      "[%] Downloading Image #3 from https://www.thehorseguide.com/wp-content/uploads/2015/05/thehrseguide4.jpg\n",
      "[%] File Downloaded !\n",
      "\n",
      "[%] Downloading Image #4 from https://ukfossils.com/wp-content/uploads/2024/08/Horse.jpeg\n",
      "[%] File Downloaded !\n",
      "\n",
      "[%] Downloading Image #5 from https://3dpirate.net/wp-content/uploads/2023/11/1-498.jpeg\n",
      "[%] File Downloaded !\n",
      "\n",
      "[%] Downloading Image #6 from https://everythinghorseuk.co.uk/wp-content/uploads/2020/01/Fibre-Beet-Horse-2015.jpg\n",
      "[!] Issue getting: https://everythinghorseuk.co.uk/wp-content/uploads/2020/01/Fibre-Beet-Horse-2015.jpg\n",
      "[!] Error:: Remote end closed connection without response\n",
      "[%] Downloading Image #6 from https://drkhorsesense.files.wordpress.com/2023/04/horse-983044_1920.jpg\n",
      "[%] File Downloaded !\n",
      "\n",
      "[%] Downloading Image #7 from https://res.cloudinary.com/canvyapp/image/upload/c_limit,f_auto,q_auto:eco,dpr_auto/v1/pro/thumbs/2a969ff8-9696-4a3b-815a-379e255fe27a_thumb.jpg\n",
      "[%] File Downloaded !\n",
      "\n",
      "[%] Downloading Image #8 from http://eskipaper.com/images/horse-art-1.jpg\n",
      "[%] File Downloaded !\n",
      "\n",
      "[%] Downloading Image #9 from https://mur-gallery.com/sites/default/files/products/Horse Art.jpg\n",
      "[!] Issue getting: https://mur-gallery.com/sites/default/files/products/Horse Art.jpg\n",
      "[!] Error:: URL can't contain control characters. '/sites/default/files/products/Horse Art.jpg' (found at least ' ')\n",
      "[%] Downloading Image #9 from https://www.jigsawplanet.com/Cjfe/horse-art?rc=face\n",
      "[%] File Downloaded !\n",
      "\n",
      "[%] Downloading Image #10 from https://static.vecteezy.com/system/resources/previews/023/186/521/non_2x/3d-rendering-of-a-horse-with-a-lot-of-paint-splashes-ai-generative-image-free-photo.jpg\n",
      "[%] File Downloaded !\n",
      "\n",
      "\n",
      "\n",
      "[%] Done. Downloaded 10 images.\n"
     ]
    }
   ],
   "source": [
    "downloader.download('horse',limit=10,adult_filter_off=True)"
   ]
  },
  {
   "cell_type": "markdown",
   "id": "f362502c-b094-4355-b5a3-7f091ade1a88",
   "metadata": {},
   "source": [
    "Görsel veri toplamak için çok pratik ve hızlı bir yöntem kullanılmış.\n",
    "\n",
    "İleride farklı kategoriler için de aynı sistem kurulup, kendi özel veri setleri rahatlıkla oluşturulabilir.\n",
    "\n",
    "adult_filter_off=True kullanımı güvenlik açısından doğru düşünülmüş.\n",
    "\n",
    "Daha büyük veri setleri oluşturmak için limit değeri arttırılabilir.\n",
    "\n",
    "Dosya isimleri ve veri temizliği (görsel kalite kontrolü) gibi adımlar bir sonraki aşamada yapılabilir."
   ]
  },
  {
   "cell_type": "markdown",
   "id": "11480190-aa97-4c65-9763-b42d4b89370d",
   "metadata": {},
   "source": [
    "# Computer Vision With Deep Learning"
   ]
  },
  {
   "cell_type": "markdown",
   "id": "890e015d-82b2-4e0f-9740-a8671e6e3e58",
   "metadata": {},
   "source": [
    "Bu bölümde, el yazısı rakamlarını (0–9) sınıflandırmak amacıyla bir Convolutional Neural Network (CNN) modeli kurulmuş ve eğitilmiştir.\n",
    "Kullanılan veri seti: MNIST, her biri 28x28 boyutunda gri tonlu görüntülerden oluşmaktadır.\n",
    "Proje, temel bir CNN mimarisiyle baştan sona bir sınıflandırma süreci içermektedir."
   ]
  },
  {
   "cell_type": "code",
   "execution_count": 4,
   "id": "9bb0af89-f560-4a37-9493-be65d716aaaf",
   "metadata": {},
   "outputs": [],
   "source": [
    "import tensorflow as tf"
   ]
  },
  {
   "cell_type": "code",
   "execution_count": 5,
   "id": "870c7818-36a5-4ec2-a073-af1ccdc97793",
   "metadata": {},
   "outputs": [],
   "source": [
    "mnist=tf.keras.datasets.mnist # el yazmasi rakamları tanima "
   ]
  },
  {
   "cell_type": "code",
   "execution_count": 6,
   "id": "f1e3984e-9e2b-402f-9061-e1f7068641c9",
   "metadata": {},
   "outputs": [],
   "source": [
    "(train_images,train_labels),(test_images,test_labels)=mnist.load_data() "
   ]
  },
  {
   "cell_type": "code",
   "execution_count": 7,
   "id": "11fb1622-048e-4562-91e5-f1c487766e74",
   "metadata": {},
   "outputs": [],
   "source": [
    "#üstteki kodda el yazması yazı indiridk 60000 tane resim var 28 pixel e 28 pixel şeklinde"
   ]
  },
  {
   "cell_type": "code",
   "execution_count": 8,
   "id": "091e5f88-c760-4eec-b2ac-d99769b8893d",
   "metadata": {},
   "outputs": [
    {
     "data": {
      "text/plain": [
       "(60000, 28, 28)"
      ]
     },
     "execution_count": 8,
     "metadata": {},
     "output_type": "execute_result"
    }
   ],
   "source": [
    "train_images.shape"
   ]
  },
  {
   "cell_type": "code",
   "execution_count": 9,
   "id": "8330b2e4-ec68-4249-82e0-1f030c948089",
   "metadata": {},
   "outputs": [],
   "source": [
    "import matplotlib.pyplot as plt"
   ]
  },
  {
   "cell_type": "code",
   "execution_count": 10,
   "id": "bb5b6865-c9d3-4e8f-9b66-e7c0c9aa8169",
   "metadata": {},
   "outputs": [
    {
     "data": {
      "text/plain": [
       "<matplotlib.image.AxesImage at 0x213ecc1d100>"
      ]
     },
     "execution_count": 10,
     "metadata": {},
     "output_type": "execute_result"
    },
    {
     "data": {
      "image/png": "[encoded data removed]",
      "text/plain": [
       "<Figure size 640x480 with 1 Axes>"
      ]
     },
     "metadata": {},
     "output_type": "display_data"
    }
   ],
   "source": [
    "plt.imshow(train_images[0],cmap='gray')"
   ]
  },
  {
   "cell_type": "code",
   "execution_count": 11,
   "id": "606938b1-86ce-45a8-8123-e9b0e827b79e",
   "metadata": {},
   "outputs": [
    {
     "data": {
      "text/plain": [
       "<matplotlib.image.AxesImage at 0x213f26432c0>"
      ]
     },
     "execution_count": 11,
     "metadata": {},
     "output_type": "execute_result"
    },
    {
     "data": {
      "image/png": "[encoded data removed]",
      "text/plain": [
       "<Figure size 640x480 with 1 Axes>"
      ]
     },
     "metadata": {},
     "output_type": "display_data"
    }
   ],
   "source": [
    "plt.imshow(train_images[54],cmap='gray')"
   ]
  },
  {
   "cell_type": "code",
   "execution_count": 12,
   "id": "b86bbbfd-e915-4441-a265-b9afea05ad5e",
   "metadata": {},
   "outputs": [
    {
     "data": {
      "text/plain": [
       "9"
      ]
     },
     "execution_count": 12,
     "metadata": {},
     "output_type": "execute_result"
    }
   ],
   "source": [
    "train_labels[54]"
   ]
  },
  {
   "cell_type": "code",
   "execution_count": 13,
   "id": "373ae870-522d-4f96-9aa8-96056687dcd5",
   "metadata": {},
   "outputs": [
    {
     "data": {
      "text/plain": [
       "(10000, 28, 28)"
      ]
     },
     "execution_count": 13,
     "metadata": {},
     "output_type": "execute_result"
    }
   ],
   "source": [
    "test_images.shape"
   ]
  },
  {
   "cell_type": "code",
   "execution_count": 14,
   "id": "732346a0-f37a-4aaf-8ad6-3cd6528a1ca8",
   "metadata": {},
   "outputs": [
    {
     "data": {
      "text/plain": [
       "array([[  0,   0,   0,   0,   0,   0,   0,   0,   0,   0,   0,   0,   0,\n",
       "          0,   0,   0,   0,   0,   0,   0,   0,   0,   0,   0,   0,   0,\n",
       "          0,   0],\n",
       "       [  0,   0,   0,   0,   0,   0,   0,   0,   0,   0,   0,   0,   0,\n",
       "          0,   0,   0,   0,   0,   0,   0,   0,   0,   0,   0,   0,   0,\n",
       "          0,   0],\n",
       "       [  0,   0,   0,   0,   0,   0,   0,   0,   0,   0,   0,   0,   0,\n",
       "          0,   0,   0,   0,   0,   0,   0,   0,   0,   0,   0,   0,   0,\n",
       "          0,   0],\n",
       "       [  0,   0,   0,   0,   0,   0,   0,   0,   0,   0,   0,   0,   0,\n",
       "          0,   0,   0,   0,   0,   0,   0,   0,   0,   0,   0,   0,   0,\n",
       "          0,   0],\n",
       "       [  0,   0,   0,   0,   0,   0,   0,   0,   0,   0,   0,   0,   0,\n",
       "          0,   0,   0,   0,   0,   0,   0,   0,   0,   0,   0,   0,   0,\n",
       "          0,   0],\n",
       "       [  0,   0,   0,   0,   0,   0,   0,   0,   0,   0,   0,   0,   0,\n",
       "          0,   0,   0,   0,   0,   0,   0,   0,   0,   0,   0,   0,   0,\n",
       "          0,   0],\n",
       "       [  0,   0,   0,   0,   0,   0,   0,   0,   0,   0,   0,   0,   0,\n",
       "          0,   0,   0,   0,   0,   0,   0,   0,   0,   0,   0,   0,   0,\n",
       "          0,   0],\n",
       "       [  0,   0,   0,   0,   0,   0,   0,   0,   0,  49, 125, 235, 255,\n",
       "        254, 122,   0,   0,   0,   0,   0,  13, 134, 180,  57,   0,   0,\n",
       "          0,   0],\n",
       "       [  0,   0,   0,   0,   0,   0,   0,   0, 163, 250, 253, 253, 253,\n",
       "        253, 252,  63,   0,   0,   0,  16, 199, 253, 253, 117,   0,   0,\n",
       "          0,   0],\n",
       "       [  0,   0,   0,   0,   0,   0,  52, 168, 252, 253, 213,  32,  12,\n",
       "         49, 109,   3,   0,   0,   0, 157, 253, 253, 183,   6,   0,   0,\n",
       "          0,   0],\n",
       "       [  0,   0,   0,   0,   0,   0, 171, 253, 103,  19,  12,   0,   0,\n",
       "          0,   0,   0,   0,   0,  91, 247, 253, 235,   8,   0,   0,   0,\n",
       "          0,   0],\n",
       "       [  0,   0,   0,   0,   0,   0, 248, 253,  19,   0,   0,   0,   0,\n",
       "          0,   0,   0,  21, 189, 245, 253, 243,  77,   0,   0,   0,   0,\n",
       "          0,   0],\n",
       "       [  0,   0,   0,   0,   0,   0, 201, 253, 104,   9,   0,   0,   0,\n",
       "          0,  71, 122, 228, 253, 253, 253, 113,   0,   0,   0,   0,   0,\n",
       "          0,   0],\n",
       "       [  0,   0,   0,   0,   0,   0,  18, 199, 253, 219, 215, 215, 215,\n",
       "        215, 245, 253, 253, 253, 253, 182,  15,   0,   0,   0,   0,   0,\n",
       "          0,   0],\n",
       "       [  0,   0,   0,   0,   0,   0,   0,  20, 165, 205, 253, 253, 253,\n",
       "        191, 175, 193, 253, 253, 221,  16,   0,   0,   0,   0,   0,   0,\n",
       "          0,   0],\n",
       "       [  0,   0,   0,   0,   0,   0,   0,   0,   0,  20,  51,  51,  51,\n",
       "         11,   0,  59, 253, 253, 110,   0,   0,   0,   0,   0,   0,   0,\n",
       "          0,   0],\n",
       "       [  0,   0,   0,   0,   0,   0,   0,   0,   0,   0,   0,   0,   0,\n",
       "          0,   0,  93, 253, 218,  19,   0,   0,   0,   0,   0,   0,   0,\n",
       "          0,   0],\n",
       "       [  0,   0,   0,   0,   0,   0,   0,   0,   0,   0,   0,   0,   0,\n",
       "          0,  80, 237, 253, 111,   0,   0,   0,   0,   0,   0,   0,   0,\n",
       "          0,   0],\n",
       "       [  0,   0,   0,   0,   0,   0,   0,   0,   0,   0,   0,   0,   0,\n",
       "          0, 196, 253, 215,  22,   0,   0,   0,   0,   0,   0,   0,   0,\n",
       "          0,   0],\n",
       "       [  0,   0,   0,   0,   0,   0,   0,   0,   0,   0,   0,   0,   0,\n",
       "         13, 206, 243,  98,   0,   0,   0,   0,   0,   0,   0,   0,   0,\n",
       "          0,   0],\n",
       "       [  0,   0,   0,   0,   0,   0,   0,   0,   0,   0,   0,   0,   0,\n",
       "         93, 253, 194,   0,   0,   0,   0,   0,   0,   0,   0,   0,   0,\n",
       "          0,   0],\n",
       "       [  0,   0,   0,   0,   0,   0,   0,   0,   0,   0,   0,   0,  51,\n",
       "        235, 253, 111,   0,   0,   0,   0,   0,   0,   0,   0,   0,   0,\n",
       "          0,   0],\n",
       "       [  0,   0,   0,   0,   0,   0,   0,   0,   0,   0,   0,   0,  79,\n",
       "        253, 246,  58,   0,   0,   0,   0,   0,   0,   0,   0,   0,   0,\n",
       "          0,   0],\n",
       "       [  0,   0,   0,   0,   0,   0,   0,   0,   0,   0,   0,   0, 155,\n",
       "        253, 178,   0,   0,   0,   0,   0,   0,   0,   0,   0,   0,   0,\n",
       "          0,   0],\n",
       "       [  0,   0,   0,   0,   0,   0,   0,   0,   0,   0,   0,   0, 135,\n",
       "        253,  68,   4,   0,   0,   0,   0,   0,   0,   0,   0,   0,   0,\n",
       "          0,   0],\n",
       "       [  0,   0,   0,   0,   0,   0,   0,   0,   0,   0,   0,   0,  79,\n",
       "        253, 253, 131,   0,   0,   0,   0,   0,   0,   0,   0,   0,   0,\n",
       "          0,   0],\n",
       "       [  0,   0,   0,   0,   0,   0,   0,   0,   0,   0,   0,   0,  39,\n",
       "        159, 152,  32,   0,   0,   0,   0,   0,   0,   0,   0,   0,   0,\n",
       "          0,   0],\n",
       "       [  0,   0,   0,   0,   0,   0,   0,   0,   0,   0,   0,   0,   0,\n",
       "          0,   0,   0,   0,   0,   0,   0,   0,   0,   0,   0,   0,   0,\n",
       "          0,   0]], dtype=uint8)"
      ]
     },
     "execution_count": 14,
     "metadata": {},
     "output_type": "execute_result"
    }
   ],
   "source": [
    "train_images[54]"
   ]
  },
  {
   "cell_type": "markdown",
   "id": "852d2aa0-bba1-44c1-afbe-e86124161c82",
   "metadata": {},
   "source": [
    "#### Normalize data "
   ]
  },
  {
   "cell_type": "markdown",
   "id": "722239fd-43f3-4f64-a581-536033f82362",
   "metadata": {},
   "source": [
    "<img src='Normalization-Formula.webp'>"
   ]
  },
  {
   "cell_type": "markdown",
   "id": "3b73d8f1-9a16-40de-bee9-e722b66a121e",
   "metadata": {},
   "source": [
    "Görseller RGB formatında olduğunda her pikselin değeri 0 ile 255 arasındadır.\n",
    "\n",
    "Bu değerleri 255'e böldüğümüzde, hepsi 0 ile 1 arasına gelir.\n",
    "\n",
    "Yani veriyi normalize etmiş oluruz."
   ]
  },
  {
   "cell_type": "code",
   "execution_count": 15,
   "id": "117f9460-5c1f-4f34-9ac6-1e5095719ac7",
   "metadata": {},
   "outputs": [],
   "source": [
    "train_images=train_images/255.0"
   ]
  },
  {
   "cell_type": "code",
   "execution_count": 16,
   "id": "99946f5f-1000-4246-a0f9-0ea4e5e0ba8b",
   "metadata": {},
   "outputs": [],
   "source": [
    "test_images=test_images/255.0"
   ]
  },
  {
   "cell_type": "markdown",
   "id": "446349a3-629a-4365-bb6f-6e36366adfa6",
   "metadata": {},
   "source": [
    "### Convolutional Neural Network - CNNs - Image Classification - Resim sınıflandırma modeli"
   ]
  },
  {
   "cell_type": "code",
   "execution_count": 17,
   "id": "f34377f1-e1f6-4b6a-ac63-bfde349dd4c9",
   "metadata": {},
   "outputs": [],
   "source": [
    "from tensorflow.keras.models import Sequential\n",
    "from tensorflow.keras.layers import Dense , Conv2D , InputLayer,Reshape,MaxPooling2D,Flatten,Dropout,BatchNormalization"
   ]
  },
  {
   "cell_type": "code",
   "execution_count": 18,
   "id": "4963694e-f591-407a-9bed-cfcc1336ee1c",
   "metadata": {},
   "outputs": [
    {
     "name": "stderr",
     "output_type": "stream",
     "text": [
      "C:\\Users\\PC\\anaconda3\\Lib\\site-packages\\keras\\src\\layers\\core\\input_layer.py:27: UserWarning: Argument `input_shape` is deprecated. Use `shape` instead.\n",
      "  warnings.warn(\n"
     ]
    }
   ],
   "source": [
    "model = Sequential()  # Sıralı model başlatılıyor\n",
    "\n",
    "model.add(InputLayer(input_shape=(28,28)))  # Giriş verisi 28x28 boyutlu (gri tonlu görüntü)\n",
    "\n",
    "model.add(Reshape(target_shape=(28,28,1)))  # 1 kanal ekleniyor (28x28 → 28x28x1), Conv2D için gerekli\n",
    "\n",
    "model.add(Conv2D(filters=12, kernel_size=(3,3), activation='relu'))  # 3x3 filtre ile 12 özellik haritası çıkarılıyor, aktivasyon: ReLU\n",
    "\n",
    "model.add(MaxPooling2D(pool_size=(2,2)))  # 2x2’lik bölgede en büyük değeri alarak boyutu yarıya indiriyor\n",
    "\n",
    "model.add(Flatten())  # Veriyi düzleştirip 1D hale getiriyor (Dense katmana aktarım için)\n",
    "\n",
    "model.add(Dense(10))  # 10 nöronlu çıkış katmanı → 0-9 arası sınıflar için (10 sınıf)\n",
    "\n",
    "model.compile(\n",
    "    optimizer='adam',  # Adam optimizasyon algoritması\n",
    "    loss=tf.keras.losses.SparseCategoricalCrossentropy(from_logits=True),  # Çok sınıflı sınıflandırma için uygun kayıp fonksiyonu\n",
    "    metrics=['accuracy']  # Başarı metriği olarak doğruluk\n",
    ")\n",
    "\n"
   ]
  },
  {
   "cell_type": "code",
   "execution_count": 19,
   "id": "8710371e-5c27-48ad-a5b0-81505c19d65d",
   "metadata": {},
   "outputs": [
    {
     "name": "stdout",
     "output_type": "stream",
     "text": [
      "Epoch 1/10\n",
      "\u001b[1m1688/1688\u001b[0m \u001b[32m━━━━━━━━━━━━━━━━━━━━\u001b[0m\u001b[37m\u001b[0m \u001b[1m7s\u001b[0m 3ms/step - accuracy: 0.8458 - loss: 0.5501 - val_accuracy: 0.9710 - val_loss: 0.1069\n",
      "Epoch 2/10\n",
      "\u001b[1m1688/1688\u001b[0m \u001b[32m━━━━━━━━━━━━━━━━━━━━\u001b[0m\u001b[37m\u001b[0m \u001b[1m6s\u001b[0m 3ms/step - accuracy: 0.9657 - loss: 0.1167 - val_accuracy: 0.9775 - val_loss: 0.0806\n",
      "Epoch 3/10\n",
      "\u001b[1m1688/1688\u001b[0m \u001b[32m━━━━━━━━━━━━━━━━━━━━\u001b[0m\u001b[37m\u001b[0m \u001b[1m6s\u001b[0m 3ms/step - accuracy: 0.9761 - loss: 0.0813 - val_accuracy: 0.9822 - val_loss: 0.0678\n",
      "Epoch 4/10\n",
      "\u001b[1m1688/1688\u001b[0m \u001b[32m━━━━━━━━━━━━━━━━━━━━\u001b[0m\u001b[37m\u001b[0m \u001b[1m6s\u001b[0m 3ms/step - accuracy: 0.9802 - loss: 0.0657 - val_accuracy: 0.9828 - val_loss: 0.0634\n",
      "Epoch 5/10\n",
      "\u001b[1m1688/1688\u001b[0m \u001b[32m━━━━━━━━━━━━━━━━━━━━\u001b[0m\u001b[37m\u001b[0m \u001b[1m6s\u001b[0m 3ms/step - accuracy: 0.9829 - loss: 0.0600 - val_accuracy: 0.9823 - val_loss: 0.0676\n",
      "Epoch 6/10\n",
      "\u001b[1m1688/1688\u001b[0m \u001b[32m━━━━━━━━━━━━━━━━━━━━\u001b[0m\u001b[37m\u001b[0m \u001b[1m6s\u001b[0m 3ms/step - accuracy: 0.9846 - loss: 0.0519 - val_accuracy: 0.9833 - val_loss: 0.0641\n",
      "Epoch 7/10\n",
      "\u001b[1m1688/1688\u001b[0m \u001b[32m━━━━━━━━━━━━━━━━━━━━\u001b[0m\u001b[37m\u001b[0m \u001b[1m6s\u001b[0m 3ms/step - accuracy: 0.9861 - loss: 0.0464 - val_accuracy: 0.9820 - val_loss: 0.0667\n",
      "Epoch 8/10\n",
      "\u001b[1m1688/1688\u001b[0m \u001b[32m━━━━━━━━━━━━━━━━━━━━\u001b[0m\u001b[37m\u001b[0m \u001b[1m6s\u001b[0m 3ms/step - accuracy: 0.9879 - loss: 0.0412 - val_accuracy: 0.9833 - val_loss: 0.0627\n",
      "Epoch 9/10\n",
      "\u001b[1m1688/1688\u001b[0m \u001b[32m━━━━━━━━━━━━━━━━━━━━\u001b[0m\u001b[37m\u001b[0m \u001b[1m6s\u001b[0m 3ms/step - accuracy: 0.9889 - loss: 0.0373 - val_accuracy: 0.9832 - val_loss: 0.0631\n",
      "Epoch 10/10\n",
      "\u001b[1m1688/1688\u001b[0m \u001b[32m━━━━━━━━━━━━━━━━━━━━\u001b[0m\u001b[37m\u001b[0m \u001b[1m6s\u001b[0m 3ms/step - accuracy: 0.9881 - loss: 0.0362 - val_accuracy: 0.9838 - val_loss: 0.0626\n"
     ]
    },
    {
     "data": {
      "text/plain": [
       "<keras.src.callbacks.history.History at 0x213ed04dbb0>"
      ]
     },
     "execution_count": 19,
     "metadata": {},
     "output_type": "execute_result"
    }
   ],
   "source": [
    "model.fit(train_images, train_labels, validation_split=.10, epochs=10)  \n",
    "# train_images: eğitimde kullanılacak giriş görselleri  \n",
    "# train_labels: bu görsellere karşılık gelen etiketler (0–9 arası rakamlar)  \n",
    "# validation_split=0.10: eğitim verisinin %10’u doğrulama (validation) için ayrılacak  \n",
    "# epochs=10: model tüm eğitim verisini 10 kez görecek (10 tur eğitim yapılacak)\n"
   ]
  },
  {
   "cell_type": "code",
   "execution_count": 20,
   "id": "5eb8bae4-9131-402a-b1bd-86a162653eaf",
   "metadata": {},
   "outputs": [
    {
     "name": "stdout",
     "output_type": "stream",
     "text": [
      "\u001b[1m313/313\u001b[0m \u001b[32m━━━━━━━━━━━━━━━━━━━━\u001b[0m\u001b[37m\u001b[0m \u001b[1m1s\u001b[0m 2ms/step - accuracy: 0.9726 - loss: 0.0847\n"
     ]
    }
   ],
   "source": [
    "loss,accuracy=model.evaluate(test_images,test_labels)"
   ]
  },
  {
   "cell_type": "code",
   "execution_count": 21,
   "id": "1c8e1792-9ee4-4d22-b6fd-62af469a37d7",
   "metadata": {},
   "outputs": [
    {
     "data": {
      "text/plain": [
       "0.9787999987602234"
      ]
     },
     "execution_count": 21,
     "metadata": {},
     "output_type": "execute_result"
    }
   ],
   "source": [
    "accuracy"
   ]
  },
  {
   "cell_type": "code",
   "execution_count": 22,
   "id": "54219f9a-9a1a-4cc7-9c5a-9c9a25ae2c3f",
   "metadata": {},
   "outputs": [
    {
     "name": "stderr",
     "output_type": "stream",
     "text": [
      "WARNING:absl:You are saving your model as an HDF5 file via `model.save()` or `keras.saving.save_model(model)`. This file format is considered legacy. We recommend using instead the native Keras format, e.g. `model.save('my_model.keras')` or `keras.saving.save_model(model, 'my_model.keras')`. \n"
     ]
    }
   ],
   "source": [
    "model.save('benimelyazmasıtaniyanmodelim.h5')"
   ]
  },
  {
   "cell_type": "code",
   "execution_count": 23,
   "id": "57271774-8d41-4be4-b257-f3938798a2ef",
   "metadata": {},
   "outputs": [],
   "source": [
    "#bunu mobile indirip içine bi yazı atarsan onun ne olduğunu anlayacak artık "
   ]
  },
  {
   "cell_type": "code",
   "execution_count": 24,
   "id": "0f12aa70-7d3b-4d48-8f68-25e6170425dd",
   "metadata": {},
   "outputs": [
    {
     "ename": "SyntaxError",
     "evalue": "invalid syntax (4118003137.py, line 2)",
     "output_type": "error",
     "traceback": [
      "\u001b[1;36m  Cell \u001b[1;32mIn[24], line 2\u001b[1;36m\u001b[0m\n\u001b[1;33m    1-Layer sayisini artır\u001b[0m\n\u001b[1;37m            ^\u001b[0m\n\u001b[1;31mSyntaxError\u001b[0m\u001b[1;31m:\u001b[0m invalid syntax\n"
     ]
    }
   ],
   "source": [
    "### Deep learningde başarı oranını artirma teknikleri \n",
    "1-Layer sayisini artır \n",
    "2-Neuron sayisini artır\n",
    "3-Dropout Layer ekle Overfittingi engeller ve daha iyi öğrenmeyi sağlar "
   ]
  },
  {
   "cell_type": "code",
   "execution_count": null,
   "id": "a86acede-9f90-4e10-83a7-3009fd0f3142",
   "metadata": {},
   "outputs": [],
   "source": [
    "#üstteki işlemin daha performansalı ve daha iyi çalışmasıiçin eklenen kodlar\n",
    "model = Sequential()\n",
    "\n",
    "model.add(InputLayer(input_shape=(28,28)))  \n",
    "\n",
    "model.add(Reshape(target_shape=(28,28,1)))  \n",
    "\n",
    "model.add(BatchNormalization())  # Girdiyi normalize eder, öğrenmeyi hızlandırır ve eğitimi kararlı hale getirir\n",
    "\n",
    "model.add(Conv2D(filters=12, kernel_size=(3,3), activation='relu'))  \n",
    "\n",
    "model.add(MaxPooling2D(pool_size=(2,2)))  \n",
    "\n",
    "model.add(Flatten())  \n",
    "\n",
    "model.add(BatchNormalization())  # Düzleştirilmiş veriyi normalize eder, derin katmanlara daha düzgün aktarır\n",
    "\n",
    "model.add(Dense(60))  # Öğrenme kapasitesini artırır, daha fazla örüntü öğrenmeyi sağlar\n",
    "\n",
    "model.add(Dropout(.25))  # Aşırı öğrenmeyi engeller, modelin genelleme başarısını artırır\n",
    "\n",
    "model.add(BatchNormalization())  # Dropout sonrası veriyi dengeler, çıkış katmanına düzgün veri gönderir\n",
    "\n",
    "model.add(Dense(10))  # 10 farklı cevap classification 0-9'a kadar olan rakamlar\n",
    "\n",
    "model.compile(\n",
    "    optimizer='adam',\n",
    "    loss=tf.keras.losses.SparseCategoricalCrossentropy(from_logits=True),\n",
    "    metrics=['accuracy']\n",
    ")\n"
   ]
  },
  {
   "cell_type": "markdown",
   "id": "54c50716-0b4b-4b21-9491-cb58f2dfb131",
   "metadata": {},
   "source": [
    "Bu projede temel amacım, el yazısı rakamları sınıflandıran sade ama işlevsel bir CNN modeli kurmaktı.\n",
    "İlk olarak MNIST veri setini kullanarak modeli çok karmaşıklaştırmadan, öğrenme sürecini gözlemleyebileceğim bir yapı oluşturdum.\n",
    "\n",
    "Verileri normalize ederek modelin daha sağlıklı ve hızlı öğrenmesini sağladım.\n",
    "Bunu yaparken 0–255 aralığındaki piksel değerlerini 0–1 arasına çektim, çünkü bu adımın özellikle CNN yapılarında öğrenme kararlılığını artırdığını biliyordum.\n",
    "\n",
    "Model mimarisinde fazla katman kullanmadım çünkü MNIST gibi bir veri seti için çok derin bir yapıya gerek olmadığını düşündüm.\n",
    "Ancak Conv2D, MaxPooling ve Flatten gibi temel CNN yapılarını dahil ederek özellik çıkarımı, boyut küçültme ve sınıflandırma adımlarını net bir şekilde ayırdım.\n",
    "\n",
    "Çıkış katmanında 10 nöron kullandım çünkü elimde 0'dan 9'a kadar 10 farklı sınıf vardı.\n",
    "Ayrıca etiketler sayısal (integer) olduğu için SparseCategoricalCrossentropy kullandım, bu detaylar modelin doğru çalışması için kritik.\n",
    "\n",
    "Modeli eğitirken verinin %10’unu doğrulama için ayırarak overfitting olup olmadığını gözlemleme şansı da yarattım.\n",
    "Bu benim için önemliydi çünkü sadece eğitim başarısına değil, modelin genelleme yeteneğine de dikkat ettim.\n",
    "\n",
    "Sonuç olarak sade ama sağlam temellere dayalı bir model kurduğumu düşünüyorum.\n",
    "İleride bu yapıyı daha derinleştirerek Dropout, BatchNormalization gibi katmanlar eklemeyi ve farklı veri setleriyle denemeyi planlıyorum."
   ]
  },
  {
   "cell_type": "code",
   "execution_count": null,
   "id": "8e755823-316a-4034-bf53-420b97783ad3",
   "metadata": {},
   "outputs": [],
   "source": []
  }
 ],
 "metadata": {
  "kernelspec": {
   "display_name": "Python 3 (ipykernel)",
   "language": "python",
   "name": "python3"
  },
  "language_info": {
   "codemirror_mode": {
    "name": "ipython",
    "version": 3
   },
   "file_extension": ".py",
   "mimetype": "text/x-python",
   "name": "python",
   "nbconvert_exporter": "python",
   "pygments_lexer": "ipython3",
   "version": "3.12.7"
  }
 },
 "nbformat": 4,
 "nbformat_minor": 5
}
